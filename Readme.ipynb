{
 "cells": [
  {
   "cell_type": "markdown",
   "metadata": {},
   "source": [
    "## All data analysis must yield actionable observations\n",
    "Here we have used FordGo data set to understand customer behaviour and gain insights to maximise usage of the service and profitability"
   ]
  },
  {
   "cell_type": "markdown",
   "metadata": {},
   "source": [
    "The FordGo service has 2 usertypes\n",
    "- Subscribers\n",
    "- Customers"
   ]
  },
  {
   "cell_type": "markdown",
   "metadata": {},
   "source": [
    "## Question: How can we maximise Profits?\n",
    "- By ensuring the bikes are in use around the clock"
   ]
  },
  {
   "cell_type": "markdown",
   "metadata": {},
   "source": [
    "## Subscriber Behaviour\n",
    "- Shorter commutes\n",
    "- Lower usage on weekends\n",
    "- Form majority of users"
   ]
  },
  {
   "cell_type": "markdown",
   "metadata": {},
   "source": [
    "## Customer Behaviour\n",
    "- Longer commutes\n",
    "- Higher usage on weekends\n",
    "- Form minority of users\n"
   ]
  },
  {
   "cell_type": "markdown",
   "metadata": {},
   "source": [
    "From the plots we conclude:\n",
    "- A large portion of the users are subscriber\n",
    "- Subscribers use the bikes maily to commute to/from work\n",
    "- Customers use it in a more during the day.\n",
    "- Subscriber use it during the weekday\n",
    "- Customers use it during weekends\n",
    "- Customers appear to use it for a longer duration per trip."
   ]
  },
  {
   "cell_type": "markdown",
   "metadata": {},
   "source": [
    "### Inferences\n",
    "- More Customers need to be targeted and acquired since the usage by customers is better during non-pea hours.The bikes being free during the weekends/in the afternoon can be used by aggresively mareting to attract customers/tourists.\n",
    "- The business is linked to the season since fewer people want to use it in the winter. So a discount can be used to attract customers during these times."
   ]
  },
  {
   "cell_type": "markdown",
   "metadata": {},
   "source": [
    "## Actionble Insights \n",
    "- Advertise more to customers, since they take longer rides which means they generate more revenue per ride\n",
    "- They utilise the service during non-peak hours of Subscribers, so they can be acquired with no impact to existing customer base\n",
    "- They also utilise the service a lot more during weekends when the Subscriber demand is low\n",
    "- Adding more subscibers means adding more bikes, but adding more Customers means utilizing existing assets to maximise profits"
   ]
  },
  {
   "cell_type": "code",
   "execution_count": null,
   "metadata": {},
   "outputs": [],
   "source": []
  }
 ],
 "metadata": {
  "kernelspec": {
   "display_name": "Python 3",
   "language": "python",
   "name": "python3"
  },
  "language_info": {
   "codemirror_mode": {
    "name": "ipython",
    "version": 3
   },
   "file_extension": ".py",
   "mimetype": "text/x-python",
   "name": "python",
   "nbconvert_exporter": "python",
   "pygments_lexer": "ipython3",
   "version": "3.8.3"
  }
 },
 "nbformat": 4,
 "nbformat_minor": 4
}
